{
 "cells": [
  {
   "cell_type": "markdown",
   "metadata": {},
   "source": [
    "![sandcastle banner image](./sandcastle_intro_banner.png)"
   ]
  },
  {
   "cell_type": "code",
   "execution_count": 1,
   "metadata": {},
   "outputs": [],
   "source": [
    "# this is the bash command to remove your virtual environment\n",
    "\n",
    "# sudo /anaconda/bin/conda remove -n py38_selenium --all"
   ]
  },
  {
   "cell_type": "code",
   "execution_count": 2,
   "metadata": {},
   "outputs": [],
   "source": [
    "# these are the commands to create the coding environment for this notebook\n",
    "\n",
    "# sudo /anaconda/bin/conda create -y --name py38_selenium python=3.8\n",
    "# conda activate /anaconda/envs/py38_selenium\n",
    "# pip install ipykernel selenium webdriver-manager beautifulsoup4 lxml html5lib xlrd wget pandas holidays"
   ]
  },
  {
   "cell_type": "code",
   "execution_count": 3,
   "metadata": {},
   "outputs": [],
   "source": [
    "# these commands are for installing google-chrome on ubuntu if needed\n",
    "\n",
    "# wget -nc https://dl.google.com/linux/direct/google-chrome-stable_current_amd64.deb\n",
    "# sudo apt update\n",
    "# sudo apt install -f ./google-chrome-stable_current_amd64.deb"
   ]
  },
  {
   "cell_type": "code",
   "execution_count": 4,
   "metadata": {},
   "outputs": [
    {
     "name": "stdout",
     "output_type": "stream",
     "text": [
      "Chromium 118.0.5993.88 snap\r\n"
     ]
    }
   ],
   "source": [
    "# check installed version\n",
    "!chromium-browser --version"
   ]
  },
  {
   "cell_type": "markdown",
   "metadata": {},
   "source": [
    "check the version based on Release\n",
    "https://chromedriver.chromium.org/downloads"
   ]
  },
  {
   "cell_type": "code",
   "execution_count": 5,
   "metadata": {},
   "outputs": [],
   "source": [
    "from selenium import webdriver\n",
    "from selenium.webdriver.chrome.options import Options\n",
    "from selenium.webdriver.chrome.service import Service\n",
    "from selenium.webdriver.support import expected_conditions as EC\n",
    "from selenium.webdriver.support.wait import WebDriverWait\n",
    "from selenium.webdriver.common.by import By\n",
    "from webdriver_manager.chrome import ChromeDriverManager\n",
    "from datetime import datetime\n",
    "from holidays import Belgium\n",
    "from time import sleep\n",
    "import pandas as pd\n",
    "import numpy as np\n",
    "from bs4 import BeautifulSoup\n",
    "import math\n",
    "import requests"
   ]
  },
  {
   "cell_type": "markdown",
   "metadata": {},
   "source": [
    "### selenium v4\n",
    "\n",
    "Since version 4 you need to use Chrome Driver Manager and it will automatically  \n",
    "install the correct Chrome Driver for your environment."
   ]
  },
  {
   "cell_type": "code",
   "execution_count": 6,
   "metadata": {},
   "outputs": [
    {
     "name": "stdout",
     "output_type": "stream",
     "text": [
      "Name: selenium\r\n",
      "Version: 4.8.3\r\n",
      "Summary: \r\n",
      "Home-page: https://www.selenium.dev\r\n",
      "Author: \r\n",
      "Author-email: \r\n",
      "License: Apache 2.0\r\n",
      "Location: /anaconda/envs/py38_selenium/lib/python3.8/site-packages\r\n",
      "Requires: certifi, trio, trio-websocket, urllib3\r\n",
      "Required-by: \r\n"
     ]
    }
   ],
   "source": [
    "! pip show selenium"
   ]
  },
  {
   "cell_type": "code",
   "execution_count": 7,
   "metadata": {},
   "outputs": [
    {
     "name": "stdout",
     "output_type": "stream",
     "text": [
      "Last testrun on: 21 Oct 2023\n"
     ]
    }
   ],
   "source": [
    "print ('Last testrun on: ' + datetime.now().strftime(\"%d %b %Y\"))"
   ]
  },
  {
   "cell_type": "code",
   "execution_count": 8,
   "metadata": {},
   "outputs": [],
   "source": [
    "options = Options()\n",
    "options.add_argument('--headless')\n",
    "options.add_argument('--no-sandbox')\n",
    "options.add_argument('--disable-dev-shm-usage')\n",
    "options.add_argument(\"--window-size=1920,1200\")  # adviced to increase resolution\n",
    "\n",
    "# here is where the magic happens\n",
    "driver = webdriver.Chrome(service=Service(ChromeDriverManager().install()), options=options)"
   ]
  },
  {
   "cell_type": "code",
   "execution_count": 9,
   "metadata": {},
   "outputs": [],
   "source": [
    "# open the webpage where we can find all tides\n",
    "driver.get(\"https://odnature.naturalsciences.be/marine-forecasting-centre/nl/harmonic-tides\")"
   ]
  },
  {
   "cell_type": "code",
   "execution_count": 10,
   "metadata": {},
   "outputs": [],
   "source": [
    "# maximize the window\n",
    "driver.maximize_window()"
   ]
  },
  {
   "cell_type": "code",
   "execution_count": 11,
   "metadata": {},
   "outputs": [
    {
     "data": {
      "text/plain": [
       "True"
      ]
     },
     "execution_count": 11,
     "metadata": {},
     "output_type": "execute_result"
    }
   ],
   "source": [
    "# check the image (this is used for debugging code)\n",
    "driver.save_screenshot('screen.png')"
   ]
  },
  {
   "cell_type": "markdown",
   "metadata": {},
   "source": [
    "## change the start date"
   ]
  },
  {
   "cell_type": "code",
   "execution_count": 12,
   "metadata": {},
   "outputs": [],
   "source": [
    "# Change the start date formaat JJJJ-MM-DD\n",
    "begindatum = WebDriverWait(driver, 10).until(EC.element_to_be_clickable((By.CSS_SELECTOR, \"input[id='harmonic-start-date']\")))\n",
    "\n",
    "begindatum.clear() # Clear any existing value\n",
    "begindatum.send_keys(\"2024-01-01\") # CHANGE THE YEAR"
   ]
  },
  {
   "cell_type": "markdown",
   "metadata": {},
   "source": [
    "## change the end date"
   ]
  },
  {
   "cell_type": "code",
   "execution_count": 13,
   "metadata": {},
   "outputs": [],
   "source": [
    "# Locate the end date input field\n",
    "einddatum = WebDriverWait(driver, 10).until(EC.visibility_of_element_located((By.CSS_SELECTOR, \"input[id='harmonic-end-date']\")))\n",
    "\n",
    "# Click the input field to make it editable\n",
    "einddatum.click()\n",
    "\n",
    "einddatum.clear() # Clear any existing value\n",
    "einddatum.send_keys(\"2024-12-31\") # CHANGE THE YEAR"
   ]
  },
  {
   "cell_type": "markdown",
   "metadata": {},
   "source": [
    "### downloading website table"
   ]
  },
  {
   "cell_type": "code",
   "execution_count": 14,
   "metadata": {},
   "outputs": [],
   "source": [
    "button = WebDriverWait(driver, 10).until(EC.element_to_be_clickable((By.ID, \"update-table\")))\n",
    "button.click()"
   ]
  },
  {
   "cell_type": "code",
   "execution_count": 15,
   "metadata": {},
   "outputs": [],
   "source": [
    "# wait 5 seconds, for the webpage to load\n",
    "sleep(5)"
   ]
  },
  {
   "cell_type": "code",
   "execution_count": 16,
   "metadata": {},
   "outputs": [],
   "source": [
    "# Get the page source after all interactions\n",
    "page_source = driver.page_source"
   ]
  },
  {
   "cell_type": "code",
   "execution_count": 17,
   "metadata": {},
   "outputs": [],
   "source": [
    "# Parse the page source with BeautifulSoup\n",
    "soup = BeautifulSoup(page_source, 'html.parser')"
   ]
  },
  {
   "cell_type": "code",
   "execution_count": 18,
   "metadata": {},
   "outputs": [],
   "source": [
    "# Extract the table with the specific attribute name=\"tableResults\"\n",
    "table = soup.find('table', {'name': 'tableResults'})"
   ]
  },
  {
   "cell_type": "code",
   "execution_count": 19,
   "metadata": {},
   "outputs": [],
   "source": [
    "# Convert the table to a DataFrame\n",
    "df = pd.read_html(str(table))[0]"
   ]
  },
  {
   "cell_type": "code",
   "execution_count": 20,
   "metadata": {},
   "outputs": [
    {
     "name": "stdout",
     "output_type": "stream",
     "text": [
      "<class 'pandas.core.frame.DataFrame'>\n",
      "RangeIndex: 733 entries, 0 to 732\n",
      "Data columns (total 5 columns):\n",
      " #   Column              Non-Null Count  Dtype \n",
      "---  ------              --------------  ----- \n",
      " 0   Datum               732 non-null    object\n",
      " 1   Hoog water [m TAW]  732 non-null    object\n",
      " 2   Tijd [UTC]          732 non-null    object\n",
      " 3   Laag water [m TAW]  732 non-null    object\n",
      " 4   Tijd [UTC].1        732 non-null    object\n",
      "dtypes: object(5)\n",
      "memory usage: 28.8+ KB\n"
     ]
    }
   ],
   "source": [
    "df.info()"
   ]
  },
  {
   "cell_type": "code",
   "execution_count": 21,
   "metadata": {},
   "outputs": [
    {
     "data": {
      "text/html": [
       "<div>\n",
       "<style scoped>\n",
       "    .dataframe tbody tr th:only-of-type {\n",
       "        vertical-align: middle;\n",
       "    }\n",
       "\n",
       "    .dataframe tbody tr th {\n",
       "        vertical-align: top;\n",
       "    }\n",
       "\n",
       "    .dataframe thead th {\n",
       "        text-align: right;\n",
       "    }\n",
       "</style>\n",
       "<table border=\"1\" class=\"dataframe\">\n",
       "  <thead>\n",
       "    <tr style=\"text-align: right;\">\n",
       "      <th></th>\n",
       "      <th>Datum</th>\n",
       "      <th>Hoog water [m TAW]</th>\n",
       "      <th>Tijd [UTC]</th>\n",
       "      <th>Laag water [m TAW]</th>\n",
       "      <th>Tijd [UTC].1</th>\n",
       "    </tr>\n",
       "  </thead>\n",
       "  <tbody>\n",
       "    <tr>\n",
       "      <th>0</th>\n",
       "      <td>NaN</td>\n",
       "      <td>NaN</td>\n",
       "      <td>NaN</td>\n",
       "      <td>NaN</td>\n",
       "      <td>NaN</td>\n",
       "    </tr>\n",
       "    <tr>\n",
       "      <th>1</th>\n",
       "      <td>2024-01-01</td>\n",
       "      <td>4.17</td>\n",
       "      <td>03:11</td>\n",
       "      <td>0.53</td>\n",
       "      <td>09:49</td>\n",
       "    </tr>\n",
       "    <tr>\n",
       "      <th>2</th>\n",
       "      <td>2024-01-01</td>\n",
       "      <td>4.17</td>\n",
       "      <td>15:35</td>\n",
       "      <td>0.99</td>\n",
       "      <td>21:49</td>\n",
       "    </tr>\n",
       "    <tr>\n",
       "      <th>3</th>\n",
       "      <td>2024-01-02</td>\n",
       "      <td>4.01</td>\n",
       "      <td>03:46</td>\n",
       "      <td>0.68</td>\n",
       "      <td>10:30</td>\n",
       "    </tr>\n",
       "    <tr>\n",
       "      <th>4</th>\n",
       "      <td>2024-01-02</td>\n",
       "      <td>4.01</td>\n",
       "      <td>16:14</td>\n",
       "      <td>1.11</td>\n",
       "      <td>22:31</td>\n",
       "    </tr>\n",
       "    <tr>\n",
       "      <th>...</th>\n",
       "      <td>...</td>\n",
       "      <td>...</td>\n",
       "      <td>...</td>\n",
       "      <td>...</td>\n",
       "      <td>...</td>\n",
       "    </tr>\n",
       "    <tr>\n",
       "      <th>728</th>\n",
       "      <td>2024-12-29</td>\n",
       "      <td>4.15</td>\n",
       "      <td>23:34</td>\n",
       "      <td>0.73</td>\n",
       "      <td>17:24</td>\n",
       "    </tr>\n",
       "    <tr>\n",
       "      <th>729</th>\n",
       "      <td>2024-12-30</td>\n",
       "      <td>4.27</td>\n",
       "      <td>11:42</td>\n",
       "      <td>0.63</td>\n",
       "      <td>05:55</td>\n",
       "    </tr>\n",
       "    <tr>\n",
       "      <th>730</th>\n",
       "      <td>2024-12-30</td>\n",
       "      <td>--.--</td>\n",
       "      <td>--.--</td>\n",
       "      <td>0.57</td>\n",
       "      <td>18:04</td>\n",
       "    </tr>\n",
       "    <tr>\n",
       "      <th>731</th>\n",
       "      <td>2024-12-31</td>\n",
       "      <td>4.33</td>\n",
       "      <td>00:11</td>\n",
       "      <td>0.42</td>\n",
       "      <td>06:34</td>\n",
       "    </tr>\n",
       "    <tr>\n",
       "      <th>732</th>\n",
       "      <td>2024-12-31</td>\n",
       "      <td>4.48</td>\n",
       "      <td>12:22</td>\n",
       "      <td>0.44</td>\n",
       "      <td>18:48</td>\n",
       "    </tr>\n",
       "  </tbody>\n",
       "</table>\n",
       "<p>733 rows × 5 columns</p>\n",
       "</div>"
      ],
      "text/plain": [
       "          Datum Hoog water [m TAW] Tijd [UTC] Laag water [m TAW] Tijd [UTC].1\n",
       "0           NaN                NaN        NaN                NaN          NaN\n",
       "1    2024-01-01               4.17      03:11               0.53        09:49\n",
       "2    2024-01-01               4.17      15:35               0.99        21:49\n",
       "3    2024-01-02               4.01      03:46               0.68        10:30\n",
       "4    2024-01-02               4.01      16:14               1.11        22:31\n",
       "..          ...                ...        ...                ...          ...\n",
       "728  2024-12-29               4.15      23:34               0.73        17:24\n",
       "729  2024-12-30               4.27      11:42               0.63        05:55\n",
       "730  2024-12-30              --.--      --.--               0.57        18:04\n",
       "731  2024-12-31               4.33      00:11               0.42        06:34\n",
       "732  2024-12-31               4.48      12:22               0.44        18:48\n",
       "\n",
       "[733 rows x 5 columns]"
      ]
     },
     "execution_count": 21,
     "metadata": {},
     "output_type": "execute_result"
    }
   ],
   "source": [
    "df"
   ]
  },
  {
   "cell_type": "markdown",
   "metadata": {},
   "source": [
    "### clean and prepare the data"
   ]
  },
  {
   "cell_type": "code",
   "execution_count": 22,
   "metadata": {},
   "outputs": [],
   "source": [
    "# change the column names\n",
    "df.columns = ['datum', 'hoog_water', 'hoog_tijd', 'laag_water', 'laag_tijd']"
   ]
  },
  {
   "cell_type": "code",
   "execution_count": 23,
   "metadata": {},
   "outputs": [],
   "source": [
    "# remove record 0 because it is all NaN\n",
    "df = df.drop(0, axis=0)"
   ]
  },
  {
   "cell_type": "code",
   "execution_count": 24,
   "metadata": {},
   "outputs": [],
   "source": [
    "# first replace the values \"--.--\"\" into NaN\n",
    "x = {\"--.--\":np.nan}\n",
    "df = df.replace(x)\n",
    "\n",
    "# change hoog en laag water from string into float numbers\n",
    "df = df.astype({'hoog_water':'float', 'laag_water':'float'})"
   ]
  },
  {
   "cell_type": "code",
   "execution_count": 25,
   "metadata": {},
   "outputs": [],
   "source": [
    "# Convert 'datum' to datetime format\n",
    "df['datum'] = pd.to_datetime(df['datum'])"
   ]
  },
  {
   "cell_type": "code",
   "execution_count": 26,
   "metadata": {},
   "outputs": [],
   "source": [
    "# Combine the date from 'datum' with the time values from 'hoog_tijd' and 'laag_tijd'\n",
    "df['hoog_tijd'] = pd.to_datetime(df['datum'].dt.strftime('%Y-%m-%d') + ' ' + df['hoog_tijd'])\n",
    "df['laag_tijd'] = pd.to_datetime(df['datum'].dt.strftime('%Y-%m-%d') + ' ' + df['laag_tijd'])"
   ]
  },
  {
   "cell_type": "code",
   "execution_count": 27,
   "metadata": {},
   "outputs": [],
   "source": [
    "# Localize to UTC\n",
    "df['hoog_tijd'] = df['hoog_tijd'].dt.tz_localize('UTC')\n",
    "df['laag_tijd'] = df['laag_tijd'].dt.tz_localize('UTC')"
   ]
  },
  {
   "cell_type": "code",
   "execution_count": 28,
   "metadata": {},
   "outputs": [],
   "source": [
    "# Converteer de tijden naar de lokale tijdzone van Oostende, België (\"Europe/Brussels\")\n",
    "df['laag_tijd'] = df['laag_tijd'].dt.tz_convert('Europe/Brussels')\n",
    "df['hoog_tijd'] = df['hoog_tijd'].dt.tz_convert('Europe/Brussels')"
   ]
  },
  {
   "cell_type": "code",
   "execution_count": 29,
   "metadata": {},
   "outputs": [],
   "source": [
    "# remove the column \"datum\"\n",
    "df.drop([\"datum\"], axis=1, inplace=True)"
   ]
  },
  {
   "cell_type": "code",
   "execution_count": 30,
   "metadata": {},
   "outputs": [
    {
     "name": "stdout",
     "output_type": "stream",
     "text": [
      "       hoog_water  laag_water\n",
      "count  707.000000  707.000000\n",
      "mean     4.280410    0.528741\n",
      "std      0.384592    0.364245\n",
      "min      3.390000   -0.460000\n",
      "25%      3.975000    0.260000\n",
      "50%      4.310000    0.510000\n",
      "75%      4.580000    0.810000\n",
      "max      5.140000    1.320000\n"
     ]
    }
   ],
   "source": [
    "# Get basic statistics for each column\n",
    "print(df.describe())"
   ]
  },
  {
   "cell_type": "code",
   "execution_count": 31,
   "metadata": {},
   "outputs": [
    {
     "name": "stdout",
     "output_type": "stream",
     "text": [
      "<class 'pandas.core.frame.DataFrame'>\n",
      "RangeIndex: 732 entries, 1 to 732\n",
      "Data columns (total 4 columns):\n",
      " #   Column      Non-Null Count  Dtype                          \n",
      "---  ------      --------------  -----                          \n",
      " 0   hoog_water  707 non-null    float64                        \n",
      " 1   hoog_tijd   707 non-null    datetime64[ns, Europe/Brussels]\n",
      " 2   laag_water  707 non-null    float64                        \n",
      " 3   laag_tijd   707 non-null    datetime64[ns, Europe/Brussels]\n",
      "dtypes: datetime64[ns, Europe/Brussels](2), float64(2)\n",
      "memory usage: 23.0 KB\n"
     ]
    }
   ],
   "source": [
    "df.info()"
   ]
  },
  {
   "cell_type": "code",
   "execution_count": 32,
   "metadata": {},
   "outputs": [],
   "source": [
    "# backup/store the data into a CSV file\n",
    "df.to_csv('getijden.csv', index=0)"
   ]
  },
  {
   "cell_type": "markdown",
   "metadata": {},
   "source": [
    "## we now need to filter for dates that allow to build the castle during low tide"
   ]
  },
  {
   "cell_type": "code",
   "execution_count": 33,
   "metadata": {},
   "outputs": [],
   "source": [
    "# Filter the data to get rows where low tide is between 11:00 and 13:00\n",
    "# in past experience we saw when predicted low tide ~12u20 CEST means water reach castle ~16u00 4/okt/2015 (event 10:00 tot 18:00)\n",
    "# in the past we saw when predicted low tide ~11u56 CEST means water reach castle ~16u00 3/sep/2011\n",
    "low_tide_filter = (df['laag_tijd'].dt.hour >= 11) & (df['laag_tijd'].dt.hour < 13)"
   ]
  },
  {
   "cell_type": "code",
   "execution_count": 34,
   "metadata": {},
   "outputs": [],
   "source": [
    "# Filter voor maanden tussen mei en oktober (maanden 5 t/m 10) \n",
    "# maar negeer de maanden juli (7) en augustus (8)\n",
    "month_filter = (df['laag_tijd'].dt.month >= 5) & (df['laag_tijd'].dt.month <= 10) & ~(df['laag_tijd'].dt.month.isin([7, 8]))"
   ]
  },
  {
   "cell_type": "code",
   "execution_count": 35,
   "metadata": {},
   "outputs": [],
   "source": [
    "# Drop NaN values from 'laag_tijd' and get unique years\n",
    "unique_years = df['laag_tijd'].dropna().dt.year.unique().tolist()"
   ]
  },
  {
   "cell_type": "code",
   "execution_count": 36,
   "metadata": {},
   "outputs": [],
   "source": [
    "# Fetch Belgian holidays for the unique years\n",
    "belgian_holidays = Belgium(years=unique_years)"
   ]
  },
  {
   "cell_type": "code",
   "execution_count": 37,
   "metadata": {},
   "outputs": [
    {
     "data": {
      "text/plain": [
       "{datetime.date(2024, 1, 1): 'Nieuwjaar', datetime.date(2024, 3, 31): 'Pasen', datetime.date(2024, 4, 1): 'Paasmaandag', datetime.date(2024, 5, 1): 'Dag van de Arbeid', datetime.date(2024, 5, 9): 'O. L. H. Hemelvaart', datetime.date(2024, 5, 19): 'Pinksteren', datetime.date(2024, 5, 20): 'Pinkstermaandag', datetime.date(2024, 7, 21): 'Nationale feestdag', datetime.date(2024, 8, 15): 'O. L. V. Hemelvaart', datetime.date(2024, 11, 1): 'Allerheiligen', datetime.date(2024, 11, 11): 'Wapenstilstand', datetime.date(2024, 12, 25): 'Kerstmis'}"
      ]
     },
     "execution_count": 37,
     "metadata": {},
     "output_type": "execute_result"
    }
   ],
   "source": [
    "belgian_holidays"
   ]
  },
  {
   "cell_type": "code",
   "execution_count": 38,
   "metadata": {},
   "outputs": [],
   "source": [
    "# Convert the keys (dates) of the belgian_holidays dictionary to a list\n",
    "feestdagen = [str(date) for date in belgian_holidays.keys()]"
   ]
  },
  {
   "cell_type": "code",
   "execution_count": 39,
   "metadata": {},
   "outputs": [],
   "source": [
    "feestdag_filter = df['laag_tijd'].dt.date.astype(str).isin(feestdagen)"
   ]
  },
  {
   "cell_type": "code",
   "execution_count": 40,
   "metadata": {},
   "outputs": [],
   "source": [
    "# Filter voor enkel weekenddagen: zaterdag (5) of zondag (6)\n",
    "weekend_filter = df['laag_tijd'].dt.weekday.isin([5, 6])"
   ]
  },
  {
   "cell_type": "code",
   "execution_count": 41,
   "metadata": {},
   "outputs": [],
   "source": [
    "# Combineer de filters met een OR-operatie\n",
    "weekend_feestdag = weekend_filter | feestdag_filter"
   ]
  },
  {
   "cell_type": "code",
   "execution_count": 42,
   "metadata": {},
   "outputs": [],
   "source": [
    "# Combine all the filters\n",
    "combined_filter = low_tide_filter & month_filter & weekend_feestdag"
   ]
  },
  {
   "cell_type": "code",
   "execution_count": 43,
   "metadata": {},
   "outputs": [
    {
     "data": {
      "text/html": [
       "<div>\n",
       "<style scoped>\n",
       "    .dataframe tbody tr th:only-of-type {\n",
       "        vertical-align: middle;\n",
       "    }\n",
       "\n",
       "    .dataframe tbody tr th {\n",
       "        vertical-align: top;\n",
       "    }\n",
       "\n",
       "    .dataframe thead th {\n",
       "        text-align: right;\n",
       "    }\n",
       "</style>\n",
       "<table border=\"1\" class=\"dataframe\">\n",
       "  <thead>\n",
       "    <tr style=\"text-align: right;\">\n",
       "      <th></th>\n",
       "      <th>hoog_water</th>\n",
       "      <th>hoog_tijd</th>\n",
       "      <th>laag_water</th>\n",
       "      <th>laag_tijd</th>\n",
       "    </tr>\n",
       "  </thead>\n",
       "  <tbody>\n",
       "    <tr>\n",
       "      <th>265</th>\n",
       "      <td>4.66</td>\n",
       "      <td>2024-05-12 04:34:00+02:00</td>\n",
       "      <td>0.31</td>\n",
       "      <td>2024-05-12 11:11:00+02:00</td>\n",
       "    </tr>\n",
       "    <tr>\n",
       "      <th>503</th>\n",
       "      <td>4.58</td>\n",
       "      <td>2024-09-08 04:40:00+02:00</td>\n",
       "      <td>0.50</td>\n",
       "      <td>2024-09-08 11:05:00+02:00</td>\n",
       "    </tr>\n",
       "    <tr>\n",
       "      <th>531</th>\n",
       "      <td>4.90</td>\n",
       "      <td>2024-09-22 04:27:00+02:00</td>\n",
       "      <td>0.22</td>\n",
       "      <td>2024-09-22 11:03:00+02:00</td>\n",
       "    </tr>\n",
       "  </tbody>\n",
       "</table>\n",
       "</div>"
      ],
      "text/plain": [
       "     hoog_water                 hoog_tijd  laag_water  \\\n",
       "265        4.66 2024-05-12 04:34:00+02:00        0.31   \n",
       "503        4.58 2024-09-08 04:40:00+02:00        0.50   \n",
       "531        4.90 2024-09-22 04:27:00+02:00        0.22   \n",
       "\n",
       "                    laag_tijd  \n",
       "265 2024-05-12 11:11:00+02:00  \n",
       "503 2024-09-08 11:05:00+02:00  \n",
       "531 2024-09-22 11:03:00+02:00  "
      ]
     },
     "execution_count": 43,
     "metadata": {},
     "output_type": "execute_result"
    }
   ],
   "source": [
    "# Get the days that satisfy all conditions = best days\n",
    "df[combined_filter]"
   ]
  },
  {
   "cell_type": "code",
   "execution_count": 46,
   "metadata": {},
   "outputs": [
    {
     "name": "stdout",
     "output_type": "stream",
     "text": [
      "Sunday 12 May 2024       (met laag water om 11u11)\n",
      "Sunday 08 September 2024 (met laag water om 11u05)\n",
      "Sunday 22 September 2024 (met laag water om 11u03)\n"
     ]
    }
   ],
   "source": [
    "max_length = max([len(row['hoog_tijd'].strftime(\"%A %d %B %Y\")) for _, row in df[combined_filter].iterrows()])\n",
    "\n",
    "for index, row in df[combined_filter].iterrows():\n",
    "    date_str = row['hoog_tijd'].strftime(\"%A %d %B %Y\")\n",
    "    time_str = row['laag_tijd'].strftime(\"%Hu%M\")\n",
    "    print(f\"{date_str:<{max_length}} (met laag water om {time_str})\")"
   ]
  }
 ],
 "metadata": {
  "kernelspec": {
   "display_name": "py38_selenium",
   "language": "python",
   "name": "conda-env-py38_selenium-py"
  },
  "language_info": {
   "codemirror_mode": {
    "name": "ipython",
    "version": 3
   },
   "file_extension": ".py",
   "mimetype": "text/x-python",
   "name": "python",
   "nbconvert_exporter": "python",
   "pygments_lexer": "ipython3",
   "version": "3.8.16"
  }
 },
 "nbformat": 4,
 "nbformat_minor": 2
}
